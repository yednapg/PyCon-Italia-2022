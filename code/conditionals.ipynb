{
 "cells": [
  {
   "cell_type": "markdown",
   "id": "1127d3f6",
   "metadata": {
    "pycharm": {
     "name": "#%% md\n"
    }
   },
   "source": [
    "# Conditionals\n"
   ]
  },
  {
   "cell_type": "markdown",
   "id": "ed1471da",
   "metadata": {
    "pycharm": {
     "name": "#%% md\n"
    }
   },
   "source": [
    "## if, else"
   ]
  },
  {
   "cell_type": "code",
   "execution_count": 5,
   "id": "c32e4df9",
   "metadata": {
    "pycharm": {
     "name": "#%%\n"
    }
   },
   "outputs": [
    {
     "name": "stdout",
     "output_type": "stream",
     "text": [
      "Enter a number: 6\n",
      "error\n"
     ]
    }
   ],
   "source": [
    "let_x = 6\n",
    "user_input = input(\"Enter a number: \")\n",
    "\n",
    "if let_x == user_input:\n",
    "    print('verifeid')\n",
    "else:\n",
    "    print('error')"
   ]
  },
  {
   "cell_type": "code",
   "execution_count": 9,
   "id": "a0029d8e",
   "metadata": {
    "pycharm": {
     "name": "#%%\n"
    }
   },
   "outputs": [
    {
     "name": "stdout",
     "output_type": "stream",
     "text": [
      "Enter your name: Gaurav\n",
      "verified\n"
     ]
    }
   ],
   "source": [
    "name = \"gaurav\"\n",
    "user_input = input(\"Enter your name: \")\n",
    "\n",
    "if name == user_input:\n",
    "    print('verified')\n",
    "elif user_input == \"Gaurav\":\n",
    "    print('verified')\n",
    "else:\n",
    "    print('Not Matched')"
   ]
  },
  {
   "cell_type": "markdown",
   "id": "05965ee7",
   "metadata": {
    "pycharm": {
     "name": "#%% md\n"
    }
   },
   "source": [
    "## if, else, and elif"
   ]
  },
  {
   "cell_type": "code",
   "execution_count": 6,
   "id": "365a7964",
   "metadata": {
    "pycharm": {
     "name": "#%%\n"
    }
   },
   "outputs": [
    {
     "name": "stdout",
     "output_type": "stream",
     "text": [
      "Enter a Number: 1\n",
      "Given number is smaller than, 5\n"
     ]
    }
   ],
   "source": [
    "user = int(input('Enter a Number: '))\n",
    "\n",
    "if user < 5:\n",
    "    print('Given number is smaller than, 5')\n",
    "elif user < 10:\n",
    "    print('Given Number is less than, 10')"
   ]
  },
  {
   "cell_type": "code",
   "execution_count": null,
   "id": "62c97df3",
   "metadata": {
    "pycharm": {
     "name": "#%%\n"
    }
   },
   "outputs": [],
   "source": [
    "MkwP8Z!L9wTCgUe"
   ]
  }
 ],
 "metadata": {
  "kernelspec": {
   "display_name": "Python 3 (ipykernel)",
   "language": "python",
   "name": "python3"
  },
  "language_info": {
   "codemirror_mode": {
    "name": "ipython",
    "version": 3
   },
   "file_extension": ".py",
   "mimetype": "text/x-python",
   "name": "python",
   "nbconvert_exporter": "python",
   "pygments_lexer": "ipython3",
   "version": "3.10.4"
  }
 },
 "nbformat": 4,
 "nbformat_minor": 5
}