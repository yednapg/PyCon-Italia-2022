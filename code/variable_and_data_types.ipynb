{
 "cells": [
  {
   "cell_type": "markdown",
   "id": "33e1b023",
   "metadata": {
    "slideshow": {
     "slide_type": "slide"
    }
   },
   "source": [
    "# Variables\n",
    "\n",
    "There are like a container which contains some data like `a = 5` or `name = \"gaurav\"`"
   ]
  },
  {
   "cell_type": "code",
   "execution_count": 1,
   "id": "49a8087a",
   "metadata": {
    "slideshow": {
     "slide_type": "fragment"
    }
   },
   "outputs": [],
   "source": [
    "var = \"Welcome to PyCon Italia 2022\"\n",
    "date = 4\n",
    "month = 'June'\n",
    "speaking = True"
   ]
  },
  {
   "cell_type": "code",
   "execution_count": 10,
   "id": "ee5d4dae",
   "metadata": {},
   "outputs": [
    {
     "name": "stdout",
     "output_type": "stream",
     "text": [
      "Welcome to PyCon Italia 2022 4\n"
     ]
    }
   ],
   "source": [
    "print(var, date)"
   ]
  },
  {
   "cell_type": "markdown",
   "id": "0e969a4e",
   "metadata": {
    "slideshow": {
     "slide_type": "slide"
    }
   },
   "source": [
    "## Keywords in Python\n",
    "![](keywords.png)"
   ]
  },
  {
   "cell_type": "markdown",
   "id": "027935b8",
   "metadata": {
    "slideshow": {
     "slide_type": "slide"
    }
   },
   "source": [
    "# Data Types\n",
    "- Integers\n",
    "- String\n",
    "- Floats\n",
    "- List\n",
    "- Tuples\n",
    "- Dictionary"
   ]
  },
  {
   "cell_type": "markdown",
   "id": "4f942a66",
   "metadata": {
    "slideshow": {
     "slide_type": "slide"
    }
   },
   "source": [
    "## Integers (int)"
   ]
  },
  {
   "cell_type": "code",
   "execution_count": 2,
   "id": "d02130b8",
   "metadata": {
    "slideshow": {
     "slide_type": "fragment"
    }
   },
   "outputs": [
    {
     "data": {
      "text/plain": [
       "int"
      ]
     },
     "execution_count": 2,
     "metadata": {},
     "output_type": "execute_result"
    }
   ],
   "source": [
    "num = 5\n",
    "type(num)"
   ]
  },
  {
   "cell_type": "markdown",
   "id": "9697c186",
   "metadata": {
    "slideshow": {
     "slide_type": "slide"
    }
   },
   "source": [
    "## String (str)"
   ]
  },
  {
   "cell_type": "code",
   "execution_count": 5,
   "id": "b535d3a1",
   "metadata": {
    "slideshow": {
     "slide_type": "fragment"
    }
   },
   "outputs": [
    {
     "data": {
      "text/plain": [
       "str"
      ]
     },
     "execution_count": 5,
     "metadata": {},
     "output_type": "execute_result"
    }
   ],
   "source": [
    "place = \"Florence, Italy\"\n",
    "type(place)"
   ]
  },
  {
   "cell_type": "markdown",
   "id": "fd8e586a",
   "metadata": {
    "slideshow": {
     "slide_type": "slide"
    }
   },
   "source": [
    "## Floats (float)"
   ]
  },
  {
   "cell_type": "code",
   "execution_count": 3,
   "id": "4cb08209",
   "metadata": {
    "slideshow": {
     "slide_type": "fragment"
    }
   },
   "outputs": [
    {
     "data": {
      "text/plain": [
       "float"
      ]
     },
     "execution_count": 3,
     "metadata": {},
     "output_type": "execute_result"
    }
   ],
   "source": [
    "num = 7.5\n",
    "type(num)"
   ]
  },
  {
   "cell_type": "markdown",
   "id": "91a65f8e",
   "metadata": {
    "slideshow": {
     "slide_type": "slide"
    }
   },
   "source": [
    "# List"
   ]
  },
  {
   "cell_type": "code",
   "execution_count": 6,
   "id": "3dc9ce98",
   "metadata": {
    "slideshow": {
     "slide_type": "fragment"
    }
   },
   "outputs": [
    {
     "data": {
      "text/plain": [
       "list"
      ]
     },
     "execution_count": 6,
     "metadata": {},
     "output_type": "execute_result"
    }
   ],
   "source": [
    "my_list = [\"florence\", \"rome\", \"venice\"]\n",
    "type(my_list)"
   ]
  },
  {
   "cell_type": "markdown",
   "id": "6559d24c",
   "metadata": {
    "slideshow": {
     "slide_type": "slide"
    }
   },
   "source": [
    "# Tuples"
   ]
  },
  {
   "cell_type": "code",
   "execution_count": 7,
   "id": "330b5fd3",
   "metadata": {
    "slideshow": {
     "slide_type": "fragment"
    }
   },
   "outputs": [
    {
     "data": {
      "text/plain": [
       "tuple"
      ]
     },
     "execution_count": 7,
     "metadata": {},
     "output_type": "execute_result"
    }
   ],
   "source": [
    "my_tup = (\"python\", \"javascript\", \"swift\")\n",
    "type(my_tup)"
   ]
  },
  {
   "cell_type": "markdown",
   "id": "35d14c3b",
   "metadata": {
    "slideshow": {
     "slide_type": "slide"
    }
   },
   "source": [
    "# Dictionary"
   ]
  },
  {
   "cell_type": "code",
   "execution_count": 8,
   "id": "e9cf7d0e",
   "metadata": {
    "slideshow": {
     "slide_type": "fragment"
    }
   },
   "outputs": [
    {
     "data": {
      "text/plain": [
       "dict"
      ]
     },
     "execution_count": 8,
     "metadata": {},
     "output_type": "execute_result"
    }
   ],
   "source": [
    "my_dict = {\"name\":\"gaurav\", \"age\":\"15\"}\n",
    "type(my_dict)"
   ]
  },
  {
   "cell_type": "code",
   "execution_count": null,
   "id": "7b7c5e7e",
   "metadata": {},
   "outputs": [],
   "source": []
  }
 ],
 "metadata": {
  "celltoolbar": "Slideshow",
  "kernelspec": {
   "display_name": "Python 3 (ipykernel)",
   "language": "python",
   "name": "python3"
  },
  "language_info": {
   "codemirror_mode": {
    "name": "ipython",
    "version": 3
   },
   "file_extension": ".py",
   "mimetype": "text/x-python",
   "name": "python",
   "nbconvert_exporter": "python",
   "pygments_lexer": "ipython3",
   "version": "3.10.4"
  }
 },
 "nbformat": 4,
 "nbformat_minor": 5
}
